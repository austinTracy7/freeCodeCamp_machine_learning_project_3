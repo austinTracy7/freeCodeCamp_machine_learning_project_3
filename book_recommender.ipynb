{
  "cells": [
    {
      "cell_type": "markdown",
      "metadata": {
        "id": "uGd4NYQX1Rf_"
      },
      "source": [
        "*Note: You are currently reading this using Google Colaboratory which is a cloud-hosted version of Jupyter Notebook. This is a document containing both text cells for documentation and runnable code cells. If you are unfamiliar with Jupyter Notebook, watch this 3-minute introduction before starting this challenge: https://www.youtube.com/watch?v=inN8seMm7UI*\n",
        "\n",
        "---\n",
        "\n",
        "In this challenge, you will create a book recommendation algorithm using **K-Nearest Neighbors**.\n",
        "\n",
        "You will use the [Book-Crossings dataset](http://www2.informatik.uni-freiburg.de/~cziegler/BX/). This dataset contains 1.1 million ratings (scale of 1-10) of 270,000 books by 90,000 users. \n",
        "\n",
        "After importing and cleaning the data, use `NearestNeighbors` from `sklearn.neighbors` to develop a model that shows books that are similar to a given book. The Nearest Neighbors algorithm measures distance to determine the “closeness” of instances.\n",
        "\n",
        "Create a function named `get_recommends` that takes a book title (from the dataset) as an argument and returns a list of 5 similar books with their distances from the book argument.\n",
        "\n",
        "This code:\n",
        "\n",
        "`get_recommends(\"The Queen of the Damned (Vampire Chronicles (Paperback))\")`\n",
        "\n",
        "should return:\n",
        "\n",
        "```\n",
        "[\n",
        "  'The Queen of the Damned (Vampire Chronicles (Paperback))',\n",
        "  [\n",
        "    ['Catch 22', 0.793983519077301], \n",
        "    ['The Witching Hour (Lives of the Mayfair Witches)', 0.7448656558990479], \n",
        "    ['Interview with the Vampire', 0.7345068454742432],\n",
        "    ['The Tale of the Body Thief (Vampire Chronicles (Paperback))', 0.5376338362693787],\n",
        "    ['The Vampire Lestat (Vampire Chronicles, Book II)', 0.5178412199020386]\n",
        "  ]\n",
        "]\n",
        "```\n",
        "\n",
        "Notice that the data returned from `get_recommends()` is a list. The first element in the list is the book title passed in to the function. The second element in the list is a list of five more lists. Each of the five lists contains a recommended book and the distance from the recommended book to the book passed in to the function.\n",
        "\n",
        "If you graph the dataset (optional), you will notice that most books are not rated frequently. To ensure statistical significance, remove from the dataset users with less than 200 ratings and books with less than 100 ratings.\n",
        "\n",
        "The first three cells import libraries you may need and the data to use. The final cell is for testing. Write all your code in between those cells."
      ]
    },
    {
      "cell_type": "code",
      "execution_count": 1,
      "metadata": {
        "id": "Y1onB6kUvo4Z"
      },
      "outputs": [],
      "source": [
        "# import libraries (you may add additional imports but you may not have to)\n",
        "import numpy as np\n",
        "import pandas as pd\n",
        "from scipy.sparse import csr_matrix\n",
        "from sklearn.neighbors import NearestNeighbors\n",
        "import matplotlib.pyplot as plt"
      ]
    },
    {
      "cell_type": "code",
      "source": [
        "# not the suggested library\n",
        "from sklearn.neighbors import KNeighborsClassifier"
      ],
      "metadata": {
        "id": "xPLroCbrBbV4"
      },
      "execution_count": 2,
      "outputs": []
    },
    {
      "cell_type": "code",
      "execution_count": 3,
      "metadata": {
        "id": "iAQGqqO_vo4d",
        "colab": {
          "base_uri": "https://localhost:8080/"
        },
        "outputId": "d12c9048-2dd8-4e28-d96c-4440f3cb5f1c"
      },
      "outputs": [
        {
          "output_type": "stream",
          "name": "stdout",
          "text": [
            "--2022-09-12 21:46:23--  https://cdn.freecodecamp.org/project-data/books/book-crossings.zip\n",
            "Resolving cdn.freecodecamp.org (cdn.freecodecamp.org)... 172.67.70.149, 104.26.2.33, 104.26.3.33, ...\n",
            "Connecting to cdn.freecodecamp.org (cdn.freecodecamp.org)|172.67.70.149|:443... connected.\n",
            "HTTP request sent, awaiting response... 200 OK\n",
            "Length: 26085508 (25M) [application/zip]\n",
            "Saving to: ‘book-crossings.zip.4’\n",
            "\n",
            "book-crossings.zip. 100%[===================>]  24.88M  67.8MB/s    in 0.4s    \n",
            "\n",
            "2022-09-12 21:46:23 (67.8 MB/s) - ‘book-crossings.zip.4’ saved [26085508/26085508]\n",
            "\n",
            "Archive:  book-crossings.zip\n",
            "replace BX-Book-Ratings.csv? [y]es, [n]o, [A]ll, [N]one, [r]ename: N\n"
          ]
        }
      ],
      "source": [
        "# get data files\n",
        "!wget https://cdn.freecodecamp.org/project-data/books/book-crossings.zip\n",
        "\n",
        "!unzip book-crossings.zip\n",
        "\n",
        "books_filename = 'BX-Books.csv'\n",
        "ratings_filename = 'BX-Book-Ratings.csv'"
      ]
    },
    {
      "cell_type": "code",
      "execution_count": 4,
      "metadata": {
        "id": "NClILWOiEd6Q"
      },
      "outputs": [],
      "source": [
        "# import csv data into dataframes\n",
        "df_books = pd.read_csv(\n",
        "    books_filename,\n",
        "    encoding = \"ISO-8859-1\",\n",
        "    sep=\";\",\n",
        "    header=0,\n",
        "    names=['isbn', 'title', 'author'],\n",
        "    usecols=['isbn', 'title', 'author'],\n",
        "    dtype={'isbn': 'str', 'title': 'str', 'author': 'str'})\n",
        "\n",
        "df_ratings = pd.read_csv(\n",
        "    ratings_filename,\n",
        "    encoding = \"ISO-8859-1\",\n",
        "    sep=\";\",\n",
        "    header=0,\n",
        "    names=['user', 'isbn', 'rating'],\n",
        "    usecols=['user', 'isbn', 'rating'],\n",
        "    dtype={'user': 'int32', 'isbn': 'str', 'rating': 'float32'})"
      ]
    },
    {
      "cell_type": "code",
      "source": [
        "# ignoring case differences that should not exist\n",
        "def create_duplicates_to_modify_from_existing_dataframes(df_books,df_ratings):\n",
        "    return df_books.copy(), df_ratings.copy()\n",
        "\n",
        "def remove_case_differences(df_books,df_ratings):\n",
        "  df_books.isbn = df_books.isbn.str.upper()\n",
        "  df_books.author = df_books.author.str.title()\n",
        "  df_ratings.isbn = df_ratings.isbn.str.upper()\n",
        "\n"
      ],
      "metadata": {
        "id": "mQUtrYUuSnQC"
      },
      "execution_count": 5,
      "outputs": []
    },
    {
      "cell_type": "code",
      "source": [
        "# removing duplicates\n",
        "def remove_duplicate_books(df_books):\n",
        "  df_books = df_books[~df_books.duplicated(subset=\"isbn\")]\n"
      ],
      "metadata": {
        "id": "uOBa4BeZS-WO"
      },
      "execution_count": 6,
      "outputs": []
    },
    {
      "cell_type": "code",
      "source": [
        "# merging everything together\n",
        "def creating_one_joined_table(df_ratings, df_books):\n",
        "  df_all = df_ratings.join(df_books.set_index(\"isbn\"),on=\"isbn\")\n",
        "  return df_all\n",
        "\n",
        "def ensuring_less_memory_usage(df_all):\n",
        "  # rating as integer 8\n",
        "  df_all.rating = df_all.rating.astype(\"int8\")\n",
        "  df_all.user = df_all.user.astype(\"int32\")"
      ],
      "metadata": {
        "id": "NyPaNy7JSlvA"
      },
      "execution_count": 7,
      "outputs": []
    },
    {
      "cell_type": "code",
      "source": [
        "def create_base_table_modifications():\n",
        "  df_books_copy, df_ratings_copy = create_duplicates_to_modify_from_existing_dataframes(df_books,df_ratings)\n",
        "  # remove_case_differences(df_books_copy,df_ratings_copy)\n",
        "  # remove_duplicate_books(df_books_copy)\n",
        "  df_all = creating_one_joined_table(df_ratings_copy,df_books_copy)\n",
        "  ensuring_less_memory_usage(df_all)\n",
        "  # adding a better unique identifier\n",
        "  df_all[\"author_title\"] = df_all[\"author\"] + df_all[\"title\"]\n",
        "  return df_all\n",
        "\n"
      ],
      "metadata": {
        "id": "jtxJ8QJmCI9q"
      },
      "execution_count": 8,
      "outputs": []
    },
    {
      "cell_type": "code",
      "execution_count": 9,
      "metadata": {
        "id": "xAcXjkCFCh0A"
      },
      "outputs": [],
      "source": [
        "# removing sparse user and book data (users that have rated less than 200 books and books rated less than 100 times)\n",
        "def limit_by_user_and_book_simultaneous(df_all,book_identifier_column):\n",
        "  user_groupings = df_all.groupby(\"user\").count()\n",
        "  users_to_include_first = user_groupings[user_groupings[book_identifier_column] > 199].index\n",
        "\n",
        "  book_groupings = df_all.groupby(book_identifier_column).count()\n",
        "  books_to_include_first = book_groupings[book_groupings[\"user\"] > 99].index\n",
        "\n",
        "  simulataneous_filtering = df_all[(df_all[\"user\"].isin(users_to_include_first)) & (df_all[book_identifier_column].isin(books_to_include_first))]\n",
        "  \n",
        "  user_first_filtering = df_all[(df_all[\"user\"].isin(users_to_include_first))]\n",
        "  book_first_filtering = df_all[(df_all[book_identifier_column].isin(books_to_include_first))]\n",
        "  \n",
        "  # creating the second filtering\n",
        "  user_groupings = book_first_filtering.groupby(\"user\").count()\n",
        "  users_to_include_second = user_groupings[user_groupings[book_identifier_column] > 199].index\n",
        "\n",
        "  book_groupings = user_first_filtering.groupby(book_identifier_column).count()\n",
        "  books_to_include_second = book_groupings[book_groupings[\"user\"] > 99].index\n",
        "\n",
        "  user_first_filtering = user_first_filtering[user_first_filtering[book_identifier_column].isin(books_to_include_second)]\n",
        "  book_first_filtering = book_first_filtering[book_first_filtering[\"user\"].isin(users_to_include_second)]\n",
        "\n",
        "  return simulataneous_filtering, user_first_filtering, book_first_filtering"
      ]
    },
    {
      "cell_type": "code",
      "source": [
        "def reindex_by_row_number(df):\n",
        "    df[\"index\"] = list(range(len(df)))\n",
        "    df.set_index(\"index\",inplace=True)\n"
      ],
      "metadata": {
        "id": "4dkymYkmDM5c"
      },
      "execution_count": 10,
      "outputs": []
    },
    {
      "cell_type": "code",
      "source": [
        "def okay_data(model):\n",
        "  output = \"\"\n",
        "  necessary_books = set([\"The Queen of the Damned (Vampire Chronicles (Paperback))\",'Catch 22','The Witching Hour (Lives of the Mayfair Witches)','Interview with the Vampire','The Tale of the Body Thief (Vampire Chronicles (Paperback))','The Vampire Lestat (Vampire Chronicles, Book II)',\"Where the Heart Is (Oprah's Book Club (Paperback))\"])\n",
        "  two_more_necessary_books_among_maybe_others = set([\"I'll Be Seeing You\", 'The Weight of Water', 'The Surgeon', 'I Know This Much Is True'])\n",
        "  if necessary_books.difference(model.title) != set():\n",
        "    print(\"There are some books that are supposed to be suggested that are missing from this data.\")\n",
        "    output = False\n",
        "  else:\n",
        "    two_book_difference = two_more_necessary_books_among_maybe_others.difference(model.title)\n",
        "    if len(two_book_difference) < 3:\n",
        "        output = True\n",
        "        if len(two_book_difference) == 0:\n",
        "          print(\"Every book that might be necessary are present; this data is great.\")\n",
        "    return output\n",
        "  "
      ],
      "metadata": {
        "id": "Pa5cbckiR1K1"
      },
      "execution_count": 11,
      "outputs": []
    },
    {
      "cell_type": "code",
      "source": [
        "\n",
        "def create_nearest_neighbors_model(a_dataframe,number_of_neighbors,number_of_recommendations,index_column=\"author_title\"):\n",
        "    \"\"\"Note that the first table inserted into the model needs to be the one that will be used as an index\"\"\"\n",
        "    my_basic_model = a_dataframe[([index_column] + [\"user\",\"rating\"])]\n",
        "    my_basic_model = my_basic_model.groupby([\"author_title\",\"user\"]).mean().reset_index()\n",
        "    my_basic_model = my_basic_model.pivot(index=index_column, columns='user', values='rating').fillna(0).astype(\"int8\")\n",
        "    my_model = csr_matrix(my_basic_model.values)\n",
        "\n",
        "    # making the neigherest neighbors model\n",
        "    N_predicted_neighbours = number_of_neighbors\n",
        "    KNN = NearestNeighbors(metric='cosine', n_neighbors=N_predicted_neighbours, n_jobs=-1)\n",
        "    KNN.fit(my_model)\n",
        "    distances, indices = KNN.kneighbors(my_basic_model)\n",
        "    # return distances, indices\n",
        "    def get_recommends(book = \"\"):\n",
        "        index_items = list(set(a_dataframe[a_dataframe.title == book][index_column].to_list()))\n",
        "        full_neighbors_for_all_isbns = []\n",
        "        for index in index_items:\n",
        "          testing = np.where(my_basic_model.index==index_items[0])[0][0]\n",
        "          isbns_of_related_books = my_basic_model.index[indices[testing][:(number_of_recommendations + 1)]]\n",
        "          book_names_of_related_books = [a_dataframe[a_dataframe[index_column] == x][\"title\"].to_list()[0] for x in isbns_of_related_books]\n",
        "          distances_of_related_books = distances[testing][:(number_of_recommendations + 1)]\n",
        "        full_neighbors_for_all_isbns += [[item[0],item[1]] for item in list(zip(book_names_of_related_books,distances_of_related_books))]\n",
        "        full_neighbors_for_all_isbns.sort(key=(lambda x: x[1]))\n",
        "\n",
        "        # removing duplicates if there are any\n",
        "        already_found = []\n",
        "        unique_suggestions_list = []\n",
        "        for pair in full_neighbors_for_all_isbns:\n",
        "          current_suggestion = pair[0]\n",
        "          if current_suggestion not in already_found:\n",
        "            unique_suggestions_list.append(pair)\n",
        "            already_found.append(current_suggestion)\n",
        "\n",
        "        returned_suggestions = unique_suggestions_list[1:(number_of_recommendations + 1)] \n",
        "        returned_suggestions.reverse()\n",
        "\n",
        "        return [book,returned_suggestions]\n",
        "    return get_recommends\n",
        "\n"
      ],
      "metadata": {
        "id": "9N1qeN7mF5i1"
      },
      "execution_count": 12,
      "outputs": []
    },
    {
      "cell_type": "code",
      "source": [
        "\n",
        "# creating various models\n",
        "df_all = create_base_table_modifications()\n",
        "simulataneous_filtering, user_first_filtering, book_first_filtering = limit_by_user_and_book_simultaneous(df_all,\"author_title\")\n",
        "simulataneous_filtering_isbn, user_first_filtering_isbn, book_first_filtering_isbn = limit_by_user_and_book_simultaneous(df_all,\"isbn\")\n",
        "\n",
        "# testing models (but no longer)\n",
        "# possible_models = [simulataneous_filtering, user_first_filtering, book_first_filtering,simulataneous_filtering_isbn, user_first_filtering_isbn, book_first_filtering_isbn]\n",
        "# okay_data(book_first_filtering)\n",
        "\n",
        "# creating the actual model used\n",
        "get_recommends = create_nearest_neighbors_model(simulataneous_filtering_isbn,6,5,index_column=\"author_title\")"
      ],
      "metadata": {
        "id": "i73BQ-rLijx2"
      },
      "execution_count": 13,
      "outputs": []
    },
    {
      "cell_type": "code",
      "source": [
        "simulataneous_filtering_isbn"
      ],
      "metadata": {
        "colab": {
          "base_uri": "https://localhost:8080/",
          "height": 424
        },
        "id": "9DKrqnxSkCY8",
        "outputId": "c0193ed1-746b-4528-e7ed-65bb2b5cf0ee"
      },
      "execution_count": 14,
      "outputs": [
        {
          "output_type": "execute_result",
          "data": {
            "text/plain": [
              "           user        isbn  rating  \\\n",
              "1456     277427  002542730X      10   \n",
              "1469     277427  0060930535       0   \n",
              "1471     277427  0060934417       0   \n",
              "1474     277427  0061009059       9   \n",
              "1484     277427  0140067477       0   \n",
              "...         ...         ...     ...   \n",
              "1147304  275970  0804111359       0   \n",
              "1147436  275970  140003065X       0   \n",
              "1147439  275970  1400031346       0   \n",
              "1147440  275970  1400031354       0   \n",
              "1147441  275970  1400031362       0   \n",
              "\n",
              "                                                     title  \\\n",
              "1456     Politically Correct Bedtime Stories: Modern Ta...   \n",
              "1469                         The Poisonwood Bible: A Novel   \n",
              "1471                                    Bel Canto: A Novel   \n",
              "1474     One for the Money (Stephanie Plum Novels (Pape...   \n",
              "1484                                       The Tao of Pooh   \n",
              "...                                                    ...   \n",
              "1147304                                     Secret History   \n",
              "1147436                                     A Fine Balance   \n",
              "1147439                 The No. 1 Ladies' Detective Agency   \n",
              "1147440  Tears of the Giraffe (No.1 Ladies Detective Ag...   \n",
              "1147441  Morality for Beautiful Girls (No.1 Ladies Dete...   \n",
              "\n",
              "                         author  \\\n",
              "1456          James Finn Garner   \n",
              "1469         Barbara Kingsolver   \n",
              "1471               Ann Patchett   \n",
              "1474            Janet Evanovich   \n",
              "1484              Benjamin Hoff   \n",
              "...                         ...   \n",
              "1147304             DONNA TARTT   \n",
              "1147436         Rohinton Mistry   \n",
              "1147439  Alexander McCall Smith   \n",
              "1147440  Alexander McCall Smith   \n",
              "1147441  Alexander McCall Smith   \n",
              "\n",
              "                                              author_title  \n",
              "1456     James Finn GarnerPolitically Correct Bedtime S...  \n",
              "1469       Barbara KingsolverThe Poisonwood Bible: A Novel  \n",
              "1471                        Ann PatchettBel Canto: A Novel  \n",
              "1474     Janet EvanovichOne for the Money (Stephanie Pl...  \n",
              "1484                          Benjamin HoffThe Tao of Pooh  \n",
              "...                                                    ...  \n",
              "1147304                          DONNA TARTTSecret History  \n",
              "1147436                      Rohinton MistryA Fine Balance  \n",
              "1147439  Alexander McCall SmithThe No. 1 Ladies' Detect...  \n",
              "1147440  Alexander McCall SmithTears of the Giraffe (No...  \n",
              "1147441  Alexander McCall SmithMorality for Beautiful G...  \n",
              "\n",
              "[49781 rows x 6 columns]"
            ],
            "text/html": [
              "\n",
              "  <div id=\"df-4b8c2e2c-0c21-4d90-aef0-02f4ff6b48b6\">\n",
              "    <div class=\"colab-df-container\">\n",
              "      <div>\n",
              "<style scoped>\n",
              "    .dataframe tbody tr th:only-of-type {\n",
              "        vertical-align: middle;\n",
              "    }\n",
              "\n",
              "    .dataframe tbody tr th {\n",
              "        vertical-align: top;\n",
              "    }\n",
              "\n",
              "    .dataframe thead th {\n",
              "        text-align: right;\n",
              "    }\n",
              "</style>\n",
              "<table border=\"1\" class=\"dataframe\">\n",
              "  <thead>\n",
              "    <tr style=\"text-align: right;\">\n",
              "      <th></th>\n",
              "      <th>user</th>\n",
              "      <th>isbn</th>\n",
              "      <th>rating</th>\n",
              "      <th>title</th>\n",
              "      <th>author</th>\n",
              "      <th>author_title</th>\n",
              "    </tr>\n",
              "  </thead>\n",
              "  <tbody>\n",
              "    <tr>\n",
              "      <th>1456</th>\n",
              "      <td>277427</td>\n",
              "      <td>002542730X</td>\n",
              "      <td>10</td>\n",
              "      <td>Politically Correct Bedtime Stories: Modern Ta...</td>\n",
              "      <td>James Finn Garner</td>\n",
              "      <td>James Finn GarnerPolitically Correct Bedtime S...</td>\n",
              "    </tr>\n",
              "    <tr>\n",
              "      <th>1469</th>\n",
              "      <td>277427</td>\n",
              "      <td>0060930535</td>\n",
              "      <td>0</td>\n",
              "      <td>The Poisonwood Bible: A Novel</td>\n",
              "      <td>Barbara Kingsolver</td>\n",
              "      <td>Barbara KingsolverThe Poisonwood Bible: A Novel</td>\n",
              "    </tr>\n",
              "    <tr>\n",
              "      <th>1471</th>\n",
              "      <td>277427</td>\n",
              "      <td>0060934417</td>\n",
              "      <td>0</td>\n",
              "      <td>Bel Canto: A Novel</td>\n",
              "      <td>Ann Patchett</td>\n",
              "      <td>Ann PatchettBel Canto: A Novel</td>\n",
              "    </tr>\n",
              "    <tr>\n",
              "      <th>1474</th>\n",
              "      <td>277427</td>\n",
              "      <td>0061009059</td>\n",
              "      <td>9</td>\n",
              "      <td>One for the Money (Stephanie Plum Novels (Pape...</td>\n",
              "      <td>Janet Evanovich</td>\n",
              "      <td>Janet EvanovichOne for the Money (Stephanie Pl...</td>\n",
              "    </tr>\n",
              "    <tr>\n",
              "      <th>1484</th>\n",
              "      <td>277427</td>\n",
              "      <td>0140067477</td>\n",
              "      <td>0</td>\n",
              "      <td>The Tao of Pooh</td>\n",
              "      <td>Benjamin Hoff</td>\n",
              "      <td>Benjamin HoffThe Tao of Pooh</td>\n",
              "    </tr>\n",
              "    <tr>\n",
              "      <th>...</th>\n",
              "      <td>...</td>\n",
              "      <td>...</td>\n",
              "      <td>...</td>\n",
              "      <td>...</td>\n",
              "      <td>...</td>\n",
              "      <td>...</td>\n",
              "    </tr>\n",
              "    <tr>\n",
              "      <th>1147304</th>\n",
              "      <td>275970</td>\n",
              "      <td>0804111359</td>\n",
              "      <td>0</td>\n",
              "      <td>Secret History</td>\n",
              "      <td>DONNA TARTT</td>\n",
              "      <td>DONNA TARTTSecret History</td>\n",
              "    </tr>\n",
              "    <tr>\n",
              "      <th>1147436</th>\n",
              "      <td>275970</td>\n",
              "      <td>140003065X</td>\n",
              "      <td>0</td>\n",
              "      <td>A Fine Balance</td>\n",
              "      <td>Rohinton Mistry</td>\n",
              "      <td>Rohinton MistryA Fine Balance</td>\n",
              "    </tr>\n",
              "    <tr>\n",
              "      <th>1147439</th>\n",
              "      <td>275970</td>\n",
              "      <td>1400031346</td>\n",
              "      <td>0</td>\n",
              "      <td>The No. 1 Ladies' Detective Agency</td>\n",
              "      <td>Alexander McCall Smith</td>\n",
              "      <td>Alexander McCall SmithThe No. 1 Ladies' Detect...</td>\n",
              "    </tr>\n",
              "    <tr>\n",
              "      <th>1147440</th>\n",
              "      <td>275970</td>\n",
              "      <td>1400031354</td>\n",
              "      <td>0</td>\n",
              "      <td>Tears of the Giraffe (No.1 Ladies Detective Ag...</td>\n",
              "      <td>Alexander McCall Smith</td>\n",
              "      <td>Alexander McCall SmithTears of the Giraffe (No...</td>\n",
              "    </tr>\n",
              "    <tr>\n",
              "      <th>1147441</th>\n",
              "      <td>275970</td>\n",
              "      <td>1400031362</td>\n",
              "      <td>0</td>\n",
              "      <td>Morality for Beautiful Girls (No.1 Ladies Dete...</td>\n",
              "      <td>Alexander McCall Smith</td>\n",
              "      <td>Alexander McCall SmithMorality for Beautiful G...</td>\n",
              "    </tr>\n",
              "  </tbody>\n",
              "</table>\n",
              "<p>49781 rows × 6 columns</p>\n",
              "</div>\n",
              "      <button class=\"colab-df-convert\" onclick=\"convertToInteractive('df-4b8c2e2c-0c21-4d90-aef0-02f4ff6b48b6')\"\n",
              "              title=\"Convert this dataframe to an interactive table.\"\n",
              "              style=\"display:none;\">\n",
              "        \n",
              "  <svg xmlns=\"http://www.w3.org/2000/svg\" height=\"24px\"viewBox=\"0 0 24 24\"\n",
              "       width=\"24px\">\n",
              "    <path d=\"M0 0h24v24H0V0z\" fill=\"none\"/>\n",
              "    <path d=\"M18.56 5.44l.94 2.06.94-2.06 2.06-.94-2.06-.94-.94-2.06-.94 2.06-2.06.94zm-11 1L8.5 8.5l.94-2.06 2.06-.94-2.06-.94L8.5 2.5l-.94 2.06-2.06.94zm10 10l.94 2.06.94-2.06 2.06-.94-2.06-.94-.94-2.06-.94 2.06-2.06.94z\"/><path d=\"M17.41 7.96l-1.37-1.37c-.4-.4-.92-.59-1.43-.59-.52 0-1.04.2-1.43.59L10.3 9.45l-7.72 7.72c-.78.78-.78 2.05 0 2.83L4 21.41c.39.39.9.59 1.41.59.51 0 1.02-.2 1.41-.59l7.78-7.78 2.81-2.81c.8-.78.8-2.07 0-2.86zM5.41 20L4 18.59l7.72-7.72 1.47 1.35L5.41 20z\"/>\n",
              "  </svg>\n",
              "      </button>\n",
              "      \n",
              "  <style>\n",
              "    .colab-df-container {\n",
              "      display:flex;\n",
              "      flex-wrap:wrap;\n",
              "      gap: 12px;\n",
              "    }\n",
              "\n",
              "    .colab-df-convert {\n",
              "      background-color: #E8F0FE;\n",
              "      border: none;\n",
              "      border-radius: 50%;\n",
              "      cursor: pointer;\n",
              "      display: none;\n",
              "      fill: #1967D2;\n",
              "      height: 32px;\n",
              "      padding: 0 0 0 0;\n",
              "      width: 32px;\n",
              "    }\n",
              "\n",
              "    .colab-df-convert:hover {\n",
              "      background-color: #E2EBFA;\n",
              "      box-shadow: 0px 1px 2px rgba(60, 64, 67, 0.3), 0px 1px 3px 1px rgba(60, 64, 67, 0.15);\n",
              "      fill: #174EA6;\n",
              "    }\n",
              "\n",
              "    [theme=dark] .colab-df-convert {\n",
              "      background-color: #3B4455;\n",
              "      fill: #D2E3FC;\n",
              "    }\n",
              "\n",
              "    [theme=dark] .colab-df-convert:hover {\n",
              "      background-color: #434B5C;\n",
              "      box-shadow: 0px 1px 3px 1px rgba(0, 0, 0, 0.15);\n",
              "      filter: drop-shadow(0px 1px 2px rgba(0, 0, 0, 0.3));\n",
              "      fill: #FFFFFF;\n",
              "    }\n",
              "  </style>\n",
              "\n",
              "      <script>\n",
              "        const buttonEl =\n",
              "          document.querySelector('#df-4b8c2e2c-0c21-4d90-aef0-02f4ff6b48b6 button.colab-df-convert');\n",
              "        buttonEl.style.display =\n",
              "          google.colab.kernel.accessAllowed ? 'block' : 'none';\n",
              "\n",
              "        async function convertToInteractive(key) {\n",
              "          const element = document.querySelector('#df-4b8c2e2c-0c21-4d90-aef0-02f4ff6b48b6');\n",
              "          const dataTable =\n",
              "            await google.colab.kernel.invokeFunction('convertToInteractive',\n",
              "                                                     [key], {});\n",
              "          if (!dataTable) return;\n",
              "\n",
              "          const docLinkHtml = 'Like what you see? Visit the ' +\n",
              "            '<a target=\"_blank\" href=https://colab.research.google.com/notebooks/data_table.ipynb>data table notebook</a>'\n",
              "            + ' to learn more about interactive tables.';\n",
              "          element.innerHTML = '';\n",
              "          dataTable['output_type'] = 'display_data';\n",
              "          await google.colab.output.renderOutput(dataTable, element);\n",
              "          const docLink = document.createElement('div');\n",
              "          docLink.innerHTML = docLinkHtml;\n",
              "          element.appendChild(docLink);\n",
              "        }\n",
              "      </script>\n",
              "    </div>\n",
              "  </div>\n",
              "  "
            ]
          },
          "metadata": {},
          "execution_count": 14
        }
      ]
    },
    {
      "cell_type": "code",
      "source": [
        "# comparing against the instructions (but not ideally as I finished before I optimized it)\n",
        "get_recommends(\"The Queen of the Damned (Vampire Chronicles (Paperback))\")\n",
        "\n",
        "# [\n",
        "#   'The Queen of the Damned (Vampire Chronicles (Paperback))',\n",
        "#   [\n",
        "#     ['Catch 22', 0.793983519077301], \n",
        "#     ['The Witching Hour (Lives of the Mayfair Witches)', 0.7448656558990479], \n",
        "#     ['Interview with the Vampire', 0.7345068454742432], 0.7345068863988313\n",
        "#     ['The Tale of the Body Thief (Vampire Chronicles (Paperback))', 0.5376338362693787],\n",
        "#     ['The Vampire Lestat (Vampire Chronicles, Book II)', 0.5178412199020386]\n",
        "#   ]\n",
        "# ]"
      ],
      "metadata": {
        "colab": {
          "base_uri": "https://localhost:8080/"
        },
        "id": "mzkt0ON3kTN2",
        "outputId": "0d904d88-365f-45dc-949e-2022e147a01a"
      },
      "execution_count": 15,
      "outputs": [
        {
          "output_type": "execute_result",
          "data": {
            "text/plain": [
              "['The Queen of the Damned (Vampire Chronicles (Paperback))',\n",
              " [['Catch 22', 0.7939835419270879],\n",
              "  ['The Witching Hour (Lives of the Mayfair Witches)', 0.7448657003312193],\n",
              "  ['Interview with the Vampire', 0.7345068863988313],\n",
              "  ['The Tale of the Body Thief (Vampire Chronicles (Paperback))',\n",
              "   0.5376338446489461],\n",
              "  ['The Vampire Lestat (Vampire Chronicles, Book II)', 0.5178411864186413]]]"
            ]
          },
          "metadata": {},
          "execution_count": 15
        }
      ]
    },
    {
      "cell_type": "code",
      "source": [
        "books = get_recommends(\"Where the Heart Is (Oprah's Book Club (Paperback))\")\n",
        "print(books)\n",
        "\n",
        "def test_book_recommendation():\n",
        "  test_pass = True\n",
        "  recommends = get_recommends(\"Where the Heart Is (Oprah's Book Club (Paperback))\")\n",
        "  if recommends[0] != \"Where the Heart Is (Oprah's Book Club (Paperback))\":\n",
        "    test_pass = False\n",
        "  recommended_books = [\"I'll Be Seeing You\", 'The Weight of Water', 'The Surgeon', 'I Know This Much Is True']\n",
        "  recommended_books_dist = [0.8, 0.77, 0.77, 0.77]\n",
        "  for i in range(2): \n",
        "    if recommends[1][i][0] not in recommended_books:\n",
        "      test_pass = False\n",
        "    if abs(recommends[1][i][1] - recommended_books_dist[i]) >= 0.05:\n",
        "      test_pass = False\n",
        "  if test_pass:\n",
        "    print(\"You passed the challenge! 🎉🎉🎉🎉🎉\")\n",
        "  else:\n",
        "    print(\"You haven't passed yet. Keep trying!\")\n",
        "\n",
        "test_book_recommendation()"
      ],
      "metadata": {
        "colab": {
          "base_uri": "https://localhost:8080/"
        },
        "id": "xYfffKUmqJk8",
        "outputId": "3a7c3e56-e02b-41f3-ca36-4208e8cee3a1"
      },
      "execution_count": 16,
      "outputs": [
        {
          "output_type": "stream",
          "name": "stdout",
          "text": [
            "[\"Where the Heart Is (Oprah's Book Club (Paperback))\", [[\"I'll Be Seeing You\", 0.8016210581447822], ['The Weight of Water', 0.7708583572697412], ['The Surgeon', 0.7699410973804288], ['I Know This Much Is True', 0.7677075092617776], ['The Lovely Bones: A Novel', 0.7234864549790632]]]\n",
            "You passed the challenge! 🎉🎉🎉🎉🎉\n"
          ]
        }
      ]
    },
    {
      "cell_type": "code",
      "source": [],
      "metadata": {
        "id": "QonCsI5wnFot"
      },
      "execution_count": 16,
      "outputs": []
    }
  ],
  "metadata": {
    "colab": {
      "collapsed_sections": [],
      "provenance": []
    },
    "kernelspec": {
      "display_name": "Python 3",
      "language": "python",
      "name": "python3"
    },
    "language_info": {
      "codemirror_mode": {
        "name": "ipython",
        "version": 3
      },
      "file_extension": ".py",
      "mimetype": "text/x-python",
      "name": "python",
      "nbconvert_exporter": "python",
      "pygments_lexer": "ipython3",
      "version": "3.6.5"
    }
  },
  "nbformat": 4,
  "nbformat_minor": 0
}
